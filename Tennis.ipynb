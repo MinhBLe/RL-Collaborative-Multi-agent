{
 "cells": [
  {
   "cell_type": "markdown",
   "metadata": {},
   "source": [
    "# Collaboration and Competition\n",
    "\n",
    "---\n",
    "\n",
    "You are welcome to use this coding environment to train your agent for the project.  Follow the instructions below to get started!\n",
    "\n",
    "### 1. Start the Environment\n",
    "\n",
    "Run the next code cell to install a few packages.  This line will take a few minutes to run!"
   ]
  },
  {
   "cell_type": "code",
   "execution_count": 2,
   "metadata": {},
   "outputs": [],
   "source": [
    "!pip -q install ./python"
   ]
  },
  {
   "cell_type": "markdown",
   "metadata": {},
   "source": [
    "The environment is already saved in the Workspace and can be accessed at the file path provided below. "
   ]
  },
  {
   "cell_type": "code",
   "execution_count": 3,
   "metadata": {},
   "outputs": [
    {
     "name": "stderr",
     "output_type": "stream",
     "text": [
      "INFO:unityagents:\n",
      "'Academy' started successfully!\n",
      "Unity Academy name: Academy\n",
      "        Number of Brains: 1\n",
      "        Number of External Brains : 1\n",
      "        Lesson number : 0\n",
      "        Reset Parameters :\n",
      "\t\t\n",
      "Unity brain name: TennisBrain\n",
      "        Number of Visual Observations (per agent): 0\n",
      "        Vector Observation space type: continuous\n",
      "        Vector Observation space size (per agent): 8\n",
      "        Number of stacked Vector Observation: 3\n",
      "        Vector Action space type: continuous\n",
      "        Vector Action space size (per agent): 2\n",
      "        Vector Action descriptions: , \n"
     ]
    }
   ],
   "source": [
    "import numpy as np\n",
    "import torch\n",
    "import matplotlib.pyplot as plt\n",
    "import time\n",
    "\n",
    "from unityagents import UnityEnvironment\n",
    "from collections import deque\n",
    "from itertools import count\n",
    "import datetime\n",
    "\n",
    "from ddpg import DDPG, ReplayBuffer,BUFFER_SIZE,BATCH_SIZE,NUM_UPDATES,UPDATE_EVERY, MA_DDPG\n",
    "\n",
    "%load_ext autoreload\n",
    "%autoreload 2\n",
    "%matplotlib inline\n",
    "\n",
    "env = UnityEnvironment(file_name=\"/data/Tennis_Linux_NoVis/Tennis\")"
   ]
  },
  {
   "cell_type": "markdown",
   "metadata": {},
   "source": [
    "Environments contain **_brains_** which are responsible for deciding the actions of their associated agents. Here we check for the first brain available, and set it as the default brain we will be controlling from Python."
   ]
  },
  {
   "cell_type": "code",
   "execution_count": 4,
   "metadata": {},
   "outputs": [],
   "source": [
    "# get the default brain\n",
    "brain_name = env.brain_names[0]\n",
    "brain = env.brains[brain_name]"
   ]
  },
  {
   "cell_type": "markdown",
   "metadata": {},
   "source": [
    "### 2. Examine the State and Action Spaces\n",
    "\n",
    "Run the code cell below to print some information about the environment."
   ]
  },
  {
   "cell_type": "code",
   "execution_count": 5,
   "metadata": {},
   "outputs": [
    {
     "name": "stdout",
     "output_type": "stream",
     "text": [
      "Number of agents: 2\n",
      "Size of each action: 2\n",
      "There are 2 agents. Each observes a state with length: 24\n",
      "The state for the first agent looks like: [ 0.          0.          0.          0.          0.          0.          0.\n",
      "  0.          0.          0.          0.          0.          0.          0.\n",
      "  0.          0.         -6.65278625 -1.5        -0.          0.\n",
      "  6.83172083  6.         -0.          0.        ]\n"
     ]
    }
   ],
   "source": [
    "# reset the environment\n",
    "env_info = env.reset(train_mode=True)[brain_name]\n",
    "\n",
    "# number of agents \n",
    "num_agents = len(env_info.agents)\n",
    "print('Number of agents:', num_agents)\n",
    "\n",
    "# size of each action\n",
    "action_size = brain.vector_action_space_size\n",
    "print('Size of each action:', action_size)\n",
    "\n",
    "# examine the state space \n",
    "states = env_info.vector_observations\n",
    "state_size = states.shape[1]\n",
    "print('There are {} agents. Each observes a state with length: {}'.format(states.shape[0], state_size))\n",
    "print('The state for the first agent looks like:', states[0])"
   ]
  },
  {
   "cell_type": "markdown",
   "metadata": {},
   "source": [
    "### 3. It's Your Turn!\n",
    "\n",
    "Now it's your turn to train your own agent to solve the environment!  A few **important notes**:\n",
    "- When training the environment, set `train_mode=True`, so that the line for resetting the environment looks like the following:\n",
    "```python\n",
    "env_info = env.reset(train_mode=True)[brain_name]\n",
    "```\n",
    "- To structure your work, you're welcome to work directly in this Jupyter notebook, or you might like to start over with a new file!  You can see the list of files in the workspace by clicking on **_Jupyter_** in the top left corner of the notebook.\n",
    "- In this coding environment, you will not be able to watch the agents while they are training.  However, **_after training the agents_**, you can download the saved model weights to watch the agents on your own machine! "
   ]
  },
  {
   "cell_type": "code",
   "execution_count": 5,
   "metadata": {},
   "outputs": [],
   "source": [
    "#agent = MA_DDPG(24,2,2,random_seed=23,CER=False)"
   ]
  },
  {
   "cell_type": "code",
   "execution_count": 6,
   "metadata": {},
   "outputs": [],
   "source": [
    "def train_maddpg(num_steps=8000, CER=False):\n",
    "    agent = MA_DDPG(24,2,2,random_seed=23,CER=CER)\n",
    "    if(CER):\n",
    "        f= open(\"scores_CER.txt\",\"a+\")\n",
    "    else:\n",
    "        f= open(\"scores.txt\",\"a+\")\n",
    "    # Collect experience with pure random exploration\n",
    "    scores_agent = deque(maxlen=100)  # last 100 scores\n",
    "    print_every=25\n",
    "    my_scores=[]\n",
    "    for i in range(1,num_steps):\n",
    "        env_info = env.reset(train_mode=True)[brain_name]     # reset the environment   \n",
    "        states = env_info.vector_observations                  # get the current state (for each agent)\n",
    "        agent.reset()\n",
    "        scores = np.zeros(num_agents)                          # initialize the score (for each agent)\n",
    "        while True:            \n",
    "            actions=agent.act(states)\n",
    "            env_info = env.step(actions)[brain_name]           # send all actions to the environment\n",
    "            next_states = env_info.vector_observations         # get next state (for each agent)\n",
    "            rewards = env_info.rewards                         # get reward (for each agent)\n",
    "            dones = env_info.local_done                        # see if episode finished\n",
    "            scores += env_info.rewards                         # update the score (for each agent)\n",
    "            agent.step(states, actions, rewards,next_states, dones)\n",
    "            if np.any(dones):                                  # exit loop if episode finished\n",
    "                break\n",
    "            states = next_states  \n",
    "        new_score = np.max(scores)\n",
    "        f.write(\"%s\\n\" % new_score)\n",
    "        my_scores.append(new_score)\n",
    "        scores_agent.append(new_score)\n",
    "\n",
    "        if(np.mean(scores_agent)>0.5):\n",
    "            print('Environment Solved in {} episodes!'.format(i-100))\n",
    "            agent.save()\n",
    "            break\n",
    "        if (i%print_every==0):\n",
    "            print('Ep. {} : Av score (max over agents) over 100 last episodes {}'.format(i, np.mean(scores_agent)))\n",
    "            #agent.save()\n",
    "    f.close()\n",
    "    return my_scores"
   ]
  },
  {
   "cell_type": "code",
   "execution_count": 7,
   "metadata": {},
   "outputs": [
    {
     "name": "stdout",
     "output_type": "stream",
     "text": [
      "Ep. 25 : Av score (max over agents) over 100 last episodes 0.0\n",
      "Ep. 50 : Av score (max over agents) over 100 last episodes 0.0020000000298023225\n",
      "Ep. 75 : Av score (max over agents) over 100 last episodes 0.0026666667064030964\n",
      "Ep. 100 : Av score (max over agents) over 100 last episodes 0.0030000000447034836\n",
      "Ep. 125 : Av score (max over agents) over 100 last episodes 0.00570000009611249\n",
      "Ep. 150 : Av score (max over agents) over 100 last episodes 0.006600000113248825\n",
      "Ep. 175 : Av score (max over agents) over 100 last episodes 0.009200000166893006\n",
      "Ep. 200 : Av score (max over agents) over 100 last episodes 0.008200000151991843\n",
      "Ep. 225 : Av score (max over agents) over 100 last episodes 0.009300000164657832\n",
      "Ep. 250 : Av score (max over agents) over 100 last episodes 0.01220000021159649\n",
      "Ep. 275 : Av score (max over agents) over 100 last episodes 0.017400000281631946\n",
      "Ep. 300 : Av score (max over agents) over 100 last episodes 0.029000000469386576\n",
      "Ep. 325 : Av score (max over agents) over 100 last episodes 0.04090000065043568\n",
      "Ep. 350 : Av score (max over agents) over 100 last episodes 0.06030000096186996\n",
      "Ep. 375 : Av score (max over agents) over 100 last episodes 0.07090000113472343\n",
      "Ep. 400 : Av score (max over agents) over 100 last episodes 0.08270000131800771\n",
      "Ep. 425 : Av score (max over agents) over 100 last episodes 0.08230000132694841\n",
      "Ep. 450 : Av score (max over agents) over 100 last episodes 0.07490000119432808\n",
      "Ep. 475 : Av score (max over agents) over 100 last episodes 0.07600000120699406\n",
      "Ep. 500 : Av score (max over agents) over 100 last episodes 0.07330000115558505\n",
      "Ep. 525 : Av score (max over agents) over 100 last episodes 0.08400000128895044\n",
      "Ep. 550 : Av score (max over agents) over 100 last episodes 0.09260000143200159\n",
      "Ep. 575 : Av score (max over agents) over 100 last episodes 0.09780000150203705\n",
      "Ep. 600 : Av score (max over agents) over 100 last episodes 0.1041000016219914\n",
      "Ep. 625 : Av score (max over agents) over 100 last episodes 0.09460000149905681\n",
      "Ep. 650 : Av score (max over agents) over 100 last episodes 0.08500000134110451\n",
      "Ep. 675 : Av score (max over agents) over 100 last episodes 0.08300000131130218\n",
      "Ep. 700 : Av score (max over agents) over 100 last episodes 0.08300000127404929\n",
      "Ep. 725 : Av score (max over agents) over 100 last episodes 0.09250000139698386\n",
      "Ep. 750 : Av score (max over agents) over 100 last episodes 0.10370000155642628\n",
      "Ep. 775 : Av score (max over agents) over 100 last episodes 0.10000000149011612\n",
      "Ep. 800 : Av score (max over agents) over 100 last episodes 0.093000001385808\n",
      "Ep. 825 : Av score (max over agents) over 100 last episodes 0.09200000137090683\n",
      "Ep. 850 : Av score (max over agents) over 100 last episodes 0.09500000141561031\n",
      "Ep. 875 : Av score (max over agents) over 100 last episodes 0.09370000140741468\n",
      "Ep. 900 : Av score (max over agents) over 100 last episodes 0.09550000144168734\n",
      "Ep. 925 : Av score (max over agents) over 100 last episodes 0.09340000141412019\n",
      "Ep. 950 : Av score (max over agents) over 100 last episodes 0.09040000136941671\n",
      "Ep. 975 : Av score (max over agents) over 100 last episodes 0.1045000015757978\n",
      "Ep. 1000 : Av score (max over agents) over 100 last episodes 0.12150000182911753\n",
      "Ep. 1025 : Av score (max over agents) over 100 last episodes 0.12820000194013118\n",
      "Ep. 1050 : Av score (max over agents) over 100 last episodes 0.12700000192970037\n",
      "Ep. 1075 : Av score (max over agents) over 100 last episodes 0.11880000181496143\n",
      "Ep. 1100 : Av score (max over agents) over 100 last episodes 0.10790000164881348\n",
      "Ep. 1125 : Av score (max over agents) over 100 last episodes 0.10090000154450536\n",
      "Ep. 1150 : Av score (max over agents) over 100 last episodes 0.09900000151246786\n",
      "Ep. 1175 : Av score (max over agents) over 100 last episodes 0.11620000176131726\n",
      "Ep. 1200 : Av score (max over agents) over 100 last episodes 0.11430000172927976\n",
      "Ep. 1225 : Av score (max over agents) over 100 last episodes 0.12340000186115503\n",
      "Ep. 1250 : Av score (max over agents) over 100 last episodes 0.12910000195726754\n",
      "Ep. 1275 : Av score (max over agents) over 100 last episodes 0.11310000171884894\n",
      "Ep. 1300 : Av score (max over agents) over 100 last episodes 0.12080000184476375\n",
      "Ep. 1325 : Av score (max over agents) over 100 last episodes 0.12580000191926957\n",
      "Ep. 1350 : Av score (max over agents) over 100 last episodes 0.14490000220015645\n",
      "Ep. 1375 : Av score (max over agents) over 100 last episodes 0.16580000251531601\n",
      "Ep. 1400 : Av score (max over agents) over 100 last episodes 0.1975000029988587\n",
      "Ep. 1425 : Av score (max over agents) over 100 last episodes 0.2194000033289194\n",
      "Ep. 1450 : Av score (max over agents) over 100 last episodes 0.21910000333562493\n",
      "Ep. 1475 : Av score (max over agents) over 100 last episodes 0.24370000373572112\n",
      "Ep. 1500 : Av score (max over agents) over 100 last episodes 0.21290000326931477\n",
      "Ep. 1525 : Av score (max over agents) over 100 last episodes 0.19890000306069852\n",
      "Ep. 1550 : Av score (max over agents) over 100 last episodes 0.2180000033415854\n",
      "Ep. 1575 : Av score (max over agents) over 100 last episodes 0.20070000303909183\n",
      "Ep. 1600 : Av score (max over agents) over 100 last episodes 0.23060000348836185\n",
      "Ep. 1625 : Av score (max over agents) over 100 last episodes 0.25290000380948185\n",
      "Ep. 1650 : Av score (max over agents) over 100 last episodes 0.252000003810972\n",
      "Ep. 1675 : Av score (max over agents) over 100 last episodes 0.26070000395178794\n",
      "Ep. 1700 : Av score (max over agents) over 100 last episodes 0.2769000041857362\n",
      "Ep. 1725 : Av score (max over agents) over 100 last episodes 0.3035000046156347\n",
      "Ep. 1750 : Av score (max over agents) over 100 last episodes 0.30850000470876693\n",
      "Ep. 1775 : Av score (max over agents) over 100 last episodes 0.3173000048473477\n",
      "Ep. 1800 : Av score (max over agents) over 100 last episodes 0.3753000057116151\n",
      "Ep. 1825 : Av score (max over agents) over 100 last episodes 0.36340000553056595\n",
      "Ep. 1850 : Av score (max over agents) over 100 last episodes 0.40350000608712433\n",
      "Ep. 1875 : Av score (max over agents) over 100 last episodes 0.44180000664666297\n",
      "Ep. 1900 : Av score (max over agents) over 100 last episodes 0.3912000059336424\n",
      "Ep. 1925 : Av score (max over agents) over 100 last episodes 0.4233000063896179\n",
      "Environment Solved in 1837 episodes!\n"
     ]
    },
    {
     "data": {
      "image/png": "[encoded data removed]",
      "text/plain": [
       "<matplotlib.figure.Figure at 0x7f4b243f4860>"
      ]
     },
     "metadata": {
      "needs_background": "light"
     },
     "output_type": "display_data"
    }
   ],
   "source": [
    "import matplotlib.pyplot as plt\n",
    "%matplotlib inline\n",
    "\n",
    "scores = train_maddpg(CER=False)\n",
    "\n",
    "plt.plot(np.arange(1, len(scores)+1), scores)\n",
    "plt.ylabel('Score')\n",
    "plt.xlabel('Episode #')\n",
    "plt.show()"
   ]
  },
  {
   "cell_type": "code",
   "execution_count": 8,
   "metadata": {
    "scrolled": true
   },
   "outputs": [
    {
     "name": "stdout",
     "output_type": "stream",
     "text": [
      "Ep. 25 : Av score (max over agents) over 100 last episodes 0.004000000059604645\n",
      "Ep. 50 : Av score (max over agents) over 100 last episodes 0.005800000093877315\n",
      "Ep. 75 : Av score (max over agents) over 100 last episodes 0.005200000082453092\n",
      "Ep. 100 : Av score (max over agents) over 100 last episodes 0.006900000106543303\n",
      "Ep. 125 : Av score (max over agents) over 100 last episodes 0.009900000151246787\n",
      "Ep. 150 : Av score (max over agents) over 100 last episodes 0.009000000134110451\n",
      "Ep. 175 : Av score (max over agents) over 100 last episodes 0.015000000223517418\n",
      "Ep. 200 : Av score (max over agents) over 100 last episodes 0.01700000025331974\n",
      "Ep. 225 : Av score (max over agents) over 100 last episodes 0.020000000298023225\n",
      "Ep. 250 : Av score (max over agents) over 100 last episodes 0.020000000298023225\n",
      "Ep. 275 : Av score (max over agents) over 100 last episodes 0.01600000023841858\n",
      "Ep. 300 : Av score (max over agents) over 100 last episodes 0.01700000025331974\n",
      "Ep. 325 : Av score (max over agents) over 100 last episodes 0.01700000025331974\n",
      "Ep. 350 : Av score (max over agents) over 100 last episodes 0.019000000283122064\n",
      "Ep. 375 : Av score (max over agents) over 100 last episodes 0.022000000327825547\n",
      "Ep. 400 : Av score (max over agents) over 100 last episodes 0.022900000344961882\n",
      "Ep. 425 : Av score (max over agents) over 100 last episodes 0.02190000033006072\n",
      "Ep. 450 : Av score (max over agents) over 100 last episodes 0.02970000045374036\n",
      "Ep. 475 : Av score (max over agents) over 100 last episodes 0.023700000364333392\n",
      "Ep. 500 : Av score (max over agents) over 100 last episodes 0.020800000317394735\n",
      "Ep. 525 : Av score (max over agents) over 100 last episodes 0.02480000037699938\n",
      "Ep. 550 : Av score (max over agents) over 100 last episodes 0.02400000035762787\n",
      "Ep. 575 : Av score (max over agents) over 100 last episodes 0.03500000052154064\n",
      "Ep. 600 : Av score (max over agents) over 100 last episodes 0.039000000581145285\n",
      "Ep. 625 : Av score (max over agents) over 100 last episodes 0.03800000056624413\n",
      "Ep. 650 : Av score (max over agents) over 100 last episodes 0.036000000536441805\n",
      "Ep. 675 : Av score (max over agents) over 100 last episodes 0.03590000053867698\n",
      "Ep. 700 : Av score (max over agents) over 100 last episodes 0.02890000043436885\n",
      "Ep. 725 : Av score (max over agents) over 100 last episodes 0.024900000374764204\n",
      "Ep. 750 : Av score (max over agents) over 100 last episodes 0.025900000389665365\n",
      "Ep. 775 : Av score (max over agents) over 100 last episodes 0.02600000038743019\n",
      "Ep. 800 : Av score (max over agents) over 100 last episodes 0.04090000061318278\n",
      "Ep. 825 : Av score (max over agents) over 100 last episodes 0.05850000089034438\n",
      "Ep. 850 : Av score (max over agents) over 100 last episodes 0.0735000011138618\n",
      "Ep. 875 : Av score (max over agents) over 100 last episodes 0.08240000125020742\n",
      "Ep. 900 : Av score (max over agents) over 100 last episodes 0.08620000131428242\n",
      "Ep. 925 : Av score (max over agents) over 100 last episodes 0.08350000126287341\n",
      "Ep. 950 : Av score (max over agents) over 100 last episodes 0.08120000123977661\n",
      "Ep. 975 : Av score (max over agents) over 100 last episodes 0.08330000126734376\n",
      "Ep. 1000 : Av score (max over agents) over 100 last episodes 0.08360000126063824\n",
      "Ep. 1025 : Av score (max over agents) over 100 last episodes 0.08370000125840306\n",
      "Ep. 1050 : Av score (max over agents) over 100 last episodes 0.08710000133141875\n",
      "Ep. 1075 : Av score (max over agents) over 100 last episodes 0.08450000131502748\n",
      "Ep. 1100 : Av score (max over agents) over 100 last episodes 0.08430000135675073\n",
      "Ep. 1125 : Av score (max over agents) over 100 last episodes 0.08160000134259462\n",
      "Ep. 1150 : Av score (max over agents) over 100 last episodes 0.07720000131055713\n",
      "Ep. 1175 : Av score (max over agents) over 100 last episodes 0.08200000138953328\n",
      "Ep. 1200 : Av score (max over agents) over 100 last episodes 0.0832000013999641\n",
      "Ep. 1225 : Av score (max over agents) over 100 last episodes 0.08660000143572688\n",
      "Ep. 1250 : Av score (max over agents) over 100 last episodes 0.08550000136718154\n",
      "Ep. 1275 : Av score (max over agents) over 100 last episodes 0.08240000132471323\n",
      "Ep. 1300 : Av score (max over agents) over 100 last episodes 0.0819000012986362\n",
      "Ep. 1325 : Av score (max over agents) over 100 last episodes 0.08490000134333968\n",
      "Ep. 1350 : Av score (max over agents) over 100 last episodes 0.08530000133439898\n",
      "Ep. 1375 : Av score (max over agents) over 100 last episodes 0.08620000131428242\n",
      "Ep. 1400 : Av score (max over agents) over 100 last episodes 0.0926000013947487\n",
      "Ep. 1425 : Av score (max over agents) over 100 last episodes 0.0865000013075769\n",
      "Ep. 1450 : Av score (max over agents) over 100 last episodes 0.09060000140219927\n",
      "Ep. 1475 : Av score (max over agents) over 100 last episodes 0.09050000140443444\n",
      "Ep. 1500 : Av score (max over agents) over 100 last episodes 0.08710000136867166\n",
      "Ep. 1525 : Av score (max over agents) over 100 last episodes 0.09130000142380595\n",
      "Ep. 1550 : Av score (max over agents) over 100 last episodes 0.08990000138059258\n",
      "Ep. 1575 : Av score (max over agents) over 100 last episodes 0.08780000135302543\n",
      "Ep. 1600 : Av score (max over agents) over 100 last episodes 0.08420000128448009\n",
      "Ep. 1625 : Av score (max over agents) over 100 last episodes 0.08440000128000974\n",
      "Ep. 1650 : Av score (max over agents) over 100 last episodes 0.07970000119879841\n",
      "Ep. 1675 : Av score (max over agents) over 100 last episodes 0.08390000125393271\n",
      "Ep. 1700 : Av score (max over agents) over 100 last episodes 0.08400000125169754\n",
      "Ep. 1725 : Av score (max over agents) over 100 last episodes 0.08500000126659871\n",
      "Ep. 1750 : Av score (max over agents) over 100 last episodes 0.0900000013411045\n",
      "Ep. 1775 : Av score (max over agents) over 100 last episodes 0.08990000134333968\n",
      "Ep. 1800 : Av score (max over agents) over 100 last episodes 0.09170000137761235\n",
      "Ep. 1825 : Av score (max over agents) over 100 last episodes 0.0907000013627112\n",
      "Ep. 1850 : Av score (max over agents) over 100 last episodes 0.08850000133737922\n",
      "Ep. 1875 : Av score (max over agents) over 100 last episodes 0.08930000135675073\n",
      "Ep. 1900 : Av score (max over agents) over 100 last episodes 0.09590000146999955\n",
      "Ep. 1925 : Av score (max over agents) over 100 last episodes 0.0995000015385449\n",
      "Ep. 1950 : Av score (max over agents) over 100 last episodes 0.10050000155344606\n",
      "Ep. 1975 : Av score (max over agents) over 100 last episodes 0.10360000159591437\n",
      "Ep. 2000 : Av score (max over agents) over 100 last episodes 0.09820000153034926\n",
      "Ep. 2025 : Av score (max over agents) over 100 last episodes 0.09350000144913792\n"
     ]
    },
    {
     "ename": "KeyboardInterrupt",
     "evalue": "",
     "output_type": "error",
     "traceback": [
      "\u001b[0;31m---------------------------------------------------------------------------\u001b[0m",
      "\u001b[0;31mKeyboardInterrupt\u001b[0m                         Traceback (most recent call last)",
      "\u001b[0;32m<ipython-input-8-8ec24f0f55cf>\u001b[0m in \u001b[0;36m<module>\u001b[0;34m()\u001b[0m\n\u001b[0;32m----> 1\u001b[0;31m \u001b[0mscores_CER\u001b[0m \u001b[0;34m=\u001b[0m \u001b[0mtrain_maddpg\u001b[0m\u001b[0;34m(\u001b[0m\u001b[0mCER\u001b[0m\u001b[0;34m=\u001b[0m\u001b[0;32mTrue\u001b[0m\u001b[0;34m)\u001b[0m\u001b[0;34m\u001b[0m\u001b[0m\n\u001b[0m\u001b[1;32m      2\u001b[0m \u001b[0;34m\u001b[0m\u001b[0m\n\u001b[1;32m      3\u001b[0m \u001b[0mplt\u001b[0m\u001b[0;34m.\u001b[0m\u001b[0mplot\u001b[0m\u001b[0;34m(\u001b[0m\u001b[0mnp\u001b[0m\u001b[0;34m.\u001b[0m\u001b[0marange\u001b[0m\u001b[0;34m(\u001b[0m\u001b[0;36m1\u001b[0m\u001b[0;34m,\u001b[0m \u001b[0mlen\u001b[0m\u001b[0;34m(\u001b[0m\u001b[0mscores_CER\u001b[0m\u001b[0;34m)\u001b[0m\u001b[0;34m+\u001b[0m\u001b[0;36m1\u001b[0m\u001b[0;34m)\u001b[0m\u001b[0;34m,\u001b[0m \u001b[0mscores_CER\u001b[0m\u001b[0;34m)\u001b[0m\u001b[0;34m\u001b[0m\u001b[0m\n\u001b[1;32m      4\u001b[0m \u001b[0mplt\u001b[0m\u001b[0;34m.\u001b[0m\u001b[0mylabel\u001b[0m\u001b[0;34m(\u001b[0m\u001b[0;34m'Score_CER'\u001b[0m\u001b[0;34m)\u001b[0m\u001b[0;34m\u001b[0m\u001b[0m\n\u001b[1;32m      5\u001b[0m \u001b[0mplt\u001b[0m\u001b[0;34m.\u001b[0m\u001b[0mxlabel\u001b[0m\u001b[0;34m(\u001b[0m\u001b[0;34m'Episode #'\u001b[0m\u001b[0;34m)\u001b[0m\u001b[0;34m\u001b[0m\u001b[0m\n",
      "\u001b[0;32m<ipython-input-6-8f65f866fc65>\u001b[0m in \u001b[0;36mtrain_maddpg\u001b[0;34m(num_steps, CER)\u001b[0m\n\u001b[1;32m     21\u001b[0m             \u001b[0mdones\u001b[0m \u001b[0;34m=\u001b[0m \u001b[0menv_info\u001b[0m\u001b[0;34m.\u001b[0m\u001b[0mlocal_done\u001b[0m                        \u001b[0;31m# see if episode finished\u001b[0m\u001b[0;34m\u001b[0m\u001b[0m\n\u001b[1;32m     22\u001b[0m             \u001b[0mscores\u001b[0m \u001b[0;34m+=\u001b[0m \u001b[0menv_info\u001b[0m\u001b[0;34m.\u001b[0m\u001b[0mrewards\u001b[0m                         \u001b[0;31m# update the score (for each agent)\u001b[0m\u001b[0;34m\u001b[0m\u001b[0m\n\u001b[0;32m---> 23\u001b[0;31m             \u001b[0magent\u001b[0m\u001b[0;34m.\u001b[0m\u001b[0mstep\u001b[0m\u001b[0;34m(\u001b[0m\u001b[0mstates\u001b[0m\u001b[0;34m,\u001b[0m \u001b[0mactions\u001b[0m\u001b[0;34m,\u001b[0m \u001b[0mrewards\u001b[0m\u001b[0;34m,\u001b[0m\u001b[0mnext_states\u001b[0m\u001b[0;34m,\u001b[0m \u001b[0mdones\u001b[0m\u001b[0;34m)\u001b[0m\u001b[0;34m\u001b[0m\u001b[0m\n\u001b[0m\u001b[1;32m     24\u001b[0m             \u001b[0;32mif\u001b[0m \u001b[0mnp\u001b[0m\u001b[0;34m.\u001b[0m\u001b[0many\u001b[0m\u001b[0;34m(\u001b[0m\u001b[0mdones\u001b[0m\u001b[0;34m)\u001b[0m\u001b[0;34m:\u001b[0m                                  \u001b[0;31m# exit loop if episode finished\u001b[0m\u001b[0;34m\u001b[0m\u001b[0m\n\u001b[1;32m     25\u001b[0m                 \u001b[0;32mbreak\u001b[0m\u001b[0;34m\u001b[0m\u001b[0m\n",
      "\u001b[0;32m/home/workspace/ddpg.py\u001b[0m in \u001b[0;36mstep\u001b[0;34m(self, states, actions, rewards, next_states, dones)\u001b[0m\n\u001b[1;32m    268\u001b[0m                     \u001b[0;32mfor\u001b[0m \u001b[0m_\u001b[0m \u001b[0;32min\u001b[0m \u001b[0mrange\u001b[0m\u001b[0;34m(\u001b[0m\u001b[0;36m5\u001b[0m\u001b[0;34m)\u001b[0m\u001b[0;34m:\u001b[0m\u001b[0;34m\u001b[0m\u001b[0m\n\u001b[1;32m    269\u001b[0m                         \u001b[0mexperiences\u001b[0m \u001b[0;34m=\u001b[0m \u001b[0;34m[\u001b[0m\u001b[0mself\u001b[0m\u001b[0;34m.\u001b[0m\u001b[0mCERmem\u001b[0m\u001b[0;34m.\u001b[0m\u001b[0msample\u001b[0m\u001b[0;34m(\u001b[0m\u001b[0;34m)\u001b[0m \u001b[0;32mfor\u001b[0m \u001b[0m_\u001b[0m \u001b[0;32min\u001b[0m \u001b[0mrange\u001b[0m\u001b[0;34m(\u001b[0m\u001b[0;36m0\u001b[0m\u001b[0;34m,\u001b[0m\u001b[0mself\u001b[0m\u001b[0;34m.\u001b[0m\u001b[0mnum_agents\u001b[0m\u001b[0;34m)\u001b[0m\u001b[0;34m]\u001b[0m\u001b[0;34m\u001b[0m\u001b[0m\n\u001b[0;32m--> 270\u001b[0;31m                         \u001b[0mself\u001b[0m\u001b[0;34m.\u001b[0m\u001b[0mlearn\u001b[0m\u001b[0;34m(\u001b[0m\u001b[0mexperiences\u001b[0m\u001b[0;34m)\u001b[0m\u001b[0;34m\u001b[0m\u001b[0m\n\u001b[0m\u001b[1;32m    271\u001b[0m \u001b[0;34m\u001b[0m\u001b[0m\n\u001b[1;32m    272\u001b[0m     \u001b[0;32mdef\u001b[0m \u001b[0mlearn\u001b[0m\u001b[0;34m(\u001b[0m\u001b[0mself\u001b[0m\u001b[0;34m,\u001b[0m\u001b[0mexperiences\u001b[0m\u001b[0;34m)\u001b[0m\u001b[0;34m:\u001b[0m\u001b[0;34m\u001b[0m\u001b[0m\n",
      "\u001b[0;32m/home/workspace/ddpg.py\u001b[0m in \u001b[0;36mlearn\u001b[0;34m(self, experiences)\u001b[0m\n\u001b[1;32m    288\u001b[0m                 \u001b[0mCollect\u001b[0m \u001b[0mall\u001b[0m \u001b[0mwould\u001b[0m\u001b[0;34m-\u001b[0m\u001b[0mbe\u001b[0m \u001b[0mactions\u001b[0m \u001b[0;32mand\u001b[0m \u001b[0mnext_actions\u001b[0m \u001b[0;32mfrom\u001b[0m \u001b[0meach\u001b[0m \u001b[0magent\u001b[0m\u001b[0;34m.\u001b[0m\u001b[0;34m\u001b[0m\u001b[0m\n\u001b[1;32m    289\u001b[0m                 \"\"\"\n\u001b[0;32m--> 290\u001b[0;31m                 \u001b[0magent_next_action\u001b[0m \u001b[0;34m=\u001b[0m \u001b[0meach_agent\u001b[0m\u001b[0;34m.\u001b[0m\u001b[0mactor_target\u001b[0m\u001b[0;34m(\u001b[0m\u001b[0mexperience_next_state\u001b[0m\u001b[0;34m)\u001b[0m\u001b[0;34m\u001b[0m\u001b[0m\n\u001b[0m\u001b[1;32m    291\u001b[0m                 \u001b[0magent_action\u001b[0m \u001b[0;34m=\u001b[0m \u001b[0meach_agent\u001b[0m\u001b[0;34m.\u001b[0m\u001b[0mactor_local\u001b[0m\u001b[0;34m(\u001b[0m\u001b[0mexperience_state\u001b[0m\u001b[0;34m)\u001b[0m\u001b[0;34m\u001b[0m\u001b[0m\n\u001b[1;32m    292\u001b[0m                 \u001b[0mactions\u001b[0m\u001b[0;34m.\u001b[0m\u001b[0mappend\u001b[0m\u001b[0;34m(\u001b[0m\u001b[0magent_action\u001b[0m\u001b[0;34m)\u001b[0m\u001b[0;34m\u001b[0m\u001b[0m\n",
      "\u001b[0;32m/opt/conda/lib/python3.6/site-packages/torch/nn/modules/module.py\u001b[0m in \u001b[0;36m__call__\u001b[0;34m(self, *input, **kwargs)\u001b[0m\n\u001b[1;32m    489\u001b[0m             \u001b[0mresult\u001b[0m \u001b[0;34m=\u001b[0m \u001b[0mself\u001b[0m\u001b[0;34m.\u001b[0m\u001b[0m_slow_forward\u001b[0m\u001b[0;34m(\u001b[0m\u001b[0;34m*\u001b[0m\u001b[0minput\u001b[0m\u001b[0;34m,\u001b[0m \u001b[0;34m**\u001b[0m\u001b[0mkwargs\u001b[0m\u001b[0;34m)\u001b[0m\u001b[0;34m\u001b[0m\u001b[0m\n\u001b[1;32m    490\u001b[0m         \u001b[0;32melse\u001b[0m\u001b[0;34m:\u001b[0m\u001b[0;34m\u001b[0m\u001b[0m\n\u001b[0;32m--> 491\u001b[0;31m             \u001b[0mresult\u001b[0m \u001b[0;34m=\u001b[0m \u001b[0mself\u001b[0m\u001b[0;34m.\u001b[0m\u001b[0mforward\u001b[0m\u001b[0;34m(\u001b[0m\u001b[0;34m*\u001b[0m\u001b[0minput\u001b[0m\u001b[0;34m,\u001b[0m \u001b[0;34m**\u001b[0m\u001b[0mkwargs\u001b[0m\u001b[0;34m)\u001b[0m\u001b[0;34m\u001b[0m\u001b[0m\n\u001b[0m\u001b[1;32m    492\u001b[0m         \u001b[0;32mfor\u001b[0m \u001b[0mhook\u001b[0m \u001b[0;32min\u001b[0m \u001b[0mself\u001b[0m\u001b[0;34m.\u001b[0m\u001b[0m_forward_hooks\u001b[0m\u001b[0;34m.\u001b[0m\u001b[0mvalues\u001b[0m\u001b[0;34m(\u001b[0m\u001b[0;34m)\u001b[0m\u001b[0;34m:\u001b[0m\u001b[0;34m\u001b[0m\u001b[0m\n\u001b[1;32m    493\u001b[0m             \u001b[0mhook_result\u001b[0m \u001b[0;34m=\u001b[0m \u001b[0mhook\u001b[0m\u001b[0;34m(\u001b[0m\u001b[0mself\u001b[0m\u001b[0;34m,\u001b[0m \u001b[0minput\u001b[0m\u001b[0;34m,\u001b[0m \u001b[0mresult\u001b[0m\u001b[0;34m)\u001b[0m\u001b[0;34m\u001b[0m\u001b[0m\n",
      "\u001b[0;32m/home/workspace/model.py\u001b[0m in \u001b[0;36mforward\u001b[0;34m(self, state)\u001b[0m\n\u001b[1;32m     39\u001b[0m         \u001b[0mx\u001b[0m \u001b[0;34m=\u001b[0m \u001b[0mF\u001b[0m\u001b[0;34m.\u001b[0m\u001b[0mrelu\u001b[0m\u001b[0;34m(\u001b[0m\u001b[0mself\u001b[0m\u001b[0;34m.\u001b[0m\u001b[0mfc1\u001b[0m\u001b[0;34m(\u001b[0m\u001b[0mstate\u001b[0m\u001b[0;34m)\u001b[0m\u001b[0;34m)\u001b[0m\u001b[0;34m\u001b[0m\u001b[0m\n\u001b[1;32m     40\u001b[0m         \u001b[0mx\u001b[0m \u001b[0;34m=\u001b[0m \u001b[0mF\u001b[0m\u001b[0;34m.\u001b[0m\u001b[0mrelu\u001b[0m\u001b[0;34m(\u001b[0m\u001b[0mself\u001b[0m\u001b[0;34m.\u001b[0m\u001b[0mfc2\u001b[0m\u001b[0;34m(\u001b[0m\u001b[0mx\u001b[0m\u001b[0;34m)\u001b[0m\u001b[0;34m)\u001b[0m\u001b[0;34m\u001b[0m\u001b[0m\n\u001b[0;32m---> 41\u001b[0;31m         \u001b[0;32mreturn\u001b[0m \u001b[0mtorch\u001b[0m\u001b[0;34m.\u001b[0m\u001b[0mtanh\u001b[0m\u001b[0;34m(\u001b[0m\u001b[0mself\u001b[0m\u001b[0;34m.\u001b[0m\u001b[0mfc3\u001b[0m\u001b[0;34m(\u001b[0m\u001b[0mx\u001b[0m\u001b[0;34m)\u001b[0m\u001b[0;34m)\u001b[0m\u001b[0;34m\u001b[0m\u001b[0m\n\u001b[0m\u001b[1;32m     42\u001b[0m \u001b[0;34m\u001b[0m\u001b[0m\n\u001b[1;32m     43\u001b[0m \u001b[0;32mclass\u001b[0m \u001b[0mCritic\u001b[0m\u001b[0;34m(\u001b[0m\u001b[0mnn\u001b[0m\u001b[0;34m.\u001b[0m\u001b[0mModule\u001b[0m\u001b[0;34m)\u001b[0m\u001b[0;34m:\u001b[0m\u001b[0;34m\u001b[0m\u001b[0m\n",
      "\u001b[0;31mKeyboardInterrupt\u001b[0m: "
     ]
    }
   ],
   "source": [
    "scores_CER = train_maddpg(CER=True)\n",
    "\n",
    "plt.plot(np.arange(1, len(scores_CER)+1), scores_CER)\n",
    "plt.ylabel('Score_CER')\n",
    "plt.xlabel('Episode #')\n",
    "plt.show()"
   ]
  },
  {
   "cell_type": "code",
   "execution_count": 11,
   "metadata": {},
   "outputs": [
    {
     "data": {
      "text/html": [
       "<div>\n",
       "<style scoped>\n",
       "    .dataframe tbody tr th:only-of-type {\n",
       "        vertical-align: middle;\n",
       "    }\n",
       "\n",
       "    .dataframe tbody tr th {\n",
       "        vertical-align: top;\n",
       "    }\n",
       "\n",
       "    .dataframe thead th {\n",
       "        text-align: right;\n",
       "    }\n",
       "</style>\n",
       "<table border=\"1\" class=\"dataframe\">\n",
       "  <thead>\n",
       "    <tr style=\"text-align: right;\">\n",
       "      <th></th>\n",
       "      <th>Episodes</th>\n",
       "      <th>Scores_noCER</th>\n",
       "      <th>Scores_CER</th>\n",
       "    </tr>\n",
       "  </thead>\n",
       "  <tbody>\n",
       "    <tr>\n",
       "      <th>0</th>\n",
       "      <td>25</td>\n",
       "      <td>0.000000</td>\n",
       "      <td>0.0040</td>\n",
       "    </tr>\n",
       "    <tr>\n",
       "      <th>1</th>\n",
       "      <td>50</td>\n",
       "      <td>0.002000</td>\n",
       "      <td>0.0058</td>\n",
       "    </tr>\n",
       "    <tr>\n",
       "      <th>2</th>\n",
       "      <td>75</td>\n",
       "      <td>0.002667</td>\n",
       "      <td>0.0052</td>\n",
       "    </tr>\n",
       "    <tr>\n",
       "      <th>3</th>\n",
       "      <td>100</td>\n",
       "      <td>0.003000</td>\n",
       "      <td>0.0069</td>\n",
       "    </tr>\n",
       "    <tr>\n",
       "      <th>4</th>\n",
       "      <td>125</td>\n",
       "      <td>0.005700</td>\n",
       "      <td>0.0099</td>\n",
       "    </tr>\n",
       "  </tbody>\n",
       "</table>\n",
       "</div>"
      ],
      "text/plain": [
       "   Episodes  Scores_noCER  Scores_CER\n",
       "0        25      0.000000      0.0040\n",
       "1        50      0.002000      0.0058\n",
       "2        75      0.002667      0.0052\n",
       "3       100      0.003000      0.0069\n",
       "4       125      0.005700      0.0099"
      ]
     },
     "execution_count": 11,
     "metadata": {},
     "output_type": "execute_result"
    }
   ],
   "source": [
    "import pandas as pd\n",
    "\n",
    "df = pd.read_csv('scores_both.csv')\n",
    "df.head()"
   ]
  },
  {
   "cell_type": "code",
   "execution_count": 16,
   "metadata": {},
   "outputs": [
    {
     "data": {
      "image/png": "[encoded data removed]",
      "text/plain": [
       "<matplotlib.figure.Figure at 0x7f4a67e89400>"
      ]
     },
     "metadata": {
      "needs_background": "light"
     },
     "output_type": "display_data"
    }
   ],
   "source": [
    "plt.plot(df['Episodes'], df['Scores_noCER'], label='Scores_noCER')\n",
    "plt.plot(df['Episodes'], df['Scores_CER'], label='Scores_CER')\n",
    "plt.xlabel('Episodes')\n",
    "plt.xlabel('Scores')\n",
    "plt.legend(loc=\"upper left\")\n",
    "plt.grid()\n",
    "plt.show()"
   ]
  },
  {
   "cell_type": "code",
   "execution_count": null,
   "metadata": {},
   "outputs": [],
   "source": [
    "env.close()"
   ]
  }
 ],
 "metadata": {
  "kernelspec": {
   "display_name": "Python 3",
   "language": "python",
   "name": "python3"
  },
  "language_info": {
   "codemirror_mode": {
    "name": "ipython",
    "version": 3
   },
   "file_extension": ".py",
   "mimetype": "text/x-python",
   "name": "python",
   "nbconvert_exporter": "python",
   "pygments_lexer": "ipython3",
   "version": "3.6.3"
  }
 },
 "nbformat": 4,
 "nbformat_minor": 2
}
